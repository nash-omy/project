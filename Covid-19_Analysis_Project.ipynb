{
 "cells": [
  {
   "cell_type": "markdown",
   "id": "91a3f305",
   "metadata": {},
   "source": [
    "COVID-19 Global Data Analysis: Trends, Vaccinations, and Insights"
   ]
  },
  {
   "cell_type": "code",
   "execution_count": null,
   "id": "ea53aab3",
   "metadata": {},
   "outputs": [],
   "source": [
    "# Importing libraries\n",
    "import pandas as pd\n",
    "import matplotlib.pyplot as plt\n",
    "import seaborn as sns\n",
    "\n",
    "# Load the data\n",
    "df = pd.read_csv('owid-covid-data.csv')\n",
    "\n",
    "# Check the columns\n",
    "print(df.columns)\n",
    "\n",
    "# Preview the data\n",
    "df.head()\n"
   ]
  },
  {
   "cell_type": "code",
   "execution_count": null,
   "id": "decf79d2",
   "metadata": {
    "vscode": {
     "languageId": "ruby"
    }
   },
   "outputs": [],
   "source": [
    "# Keep only necessary columns\n",
    "columns = ['location', 'date', 'total_cases', 'new_cases', 'total_deaths', \n",
    "           'new_deaths', 'total_vaccinations', 'people_vaccinated', 'population']\n",
    "\n",
    "df = df[columns]\n",
    "\n",
    "# Filter countries of interest\n",
    "countries = ['Kenya', 'United States', 'India']\n",
    "df = df[df['location'].isin(countries)]\n",
    "\n",
    "# Convert date column to datetime\n",
    "df['date'] = pd.to_datetime(df['date'])\n",
    "\n",
    "# Handle missing values\n",
    "df.fillna(method='ffill', inplace=True)\n",
    "df.dropna(subset=['total_cases', 'total_deaths', 'date'], inplace=True)\n",
    "\n",
    "df.head()\n"
   ]
  },
  {
   "cell_type": "code",
   "execution_count": null,
   "id": "b679e40a",
   "metadata": {},
   "outputs": [],
   "source": [
    "plt.figure(figsize=(12, 6))\n",
    "for country in countries:\n",
    "    temp = df[df['location'] == country]\n",
    "    plt.plot(temp['date'], temp['total_cases'], label=country)\n",
    "plt.title('Total COVID-19 Cases Over Time')\n",
    "plt.xlabel('Date')\n",
    "plt.ylabel('Total Cases')\n",
    "plt.legend()\n",
    "plt.show()\n"
   ]
  },
  {
   "cell_type": "code",
   "execution_count": null,
   "id": "a37ca65d",
   "metadata": {},
   "outputs": [],
   "source": [
    "plt.figure(figsize=(12, 6))\n",
    "for country in countries:\n",
    "    temp = df[df['location'] == country]\n",
    "    plt.plot(temp['date'], temp['total_deaths'], label=country)\n",
    "plt.title('Total COVID-19 Deaths Over Time')\n",
    "plt.xlabel('Date')\n",
    "plt.ylabel('Total Deaths')\n",
    "plt.legend()\n",
    "plt.show()\n"
   ]
  },
  {
   "cell_type": "code",
   "execution_count": null,
   "id": "d37ef006",
   "metadata": {},
   "outputs": [],
   "source": [
    "plt.figure(figsize=(12, 6))\n",
    "for country in countries:\n",
    "    temp = df[df['location'] == country]\n",
    "    plt.plot(temp['date'], temp['new_cases'], label=country)\n",
    "plt.title('Daily New COVID-19 Cases')\n",
    "plt.xlabel('Date')\n",
    "plt.ylabel('New Cases')\n",
    "plt.legend()\n",
    "plt.show()\n"
   ]
  },
  {
   "cell_type": "code",
   "execution_count": null,
   "id": "a5ce2e20",
   "metadata": {},
   "outputs": [],
   "source": [
    "df['death_rate'] = df['total_deaths'] / df['total_cases']\n",
    "latest = df.groupby('location').tail(1)\n",
    "latest[['location', 'death_rate']]\n"
   ]
  },
  {
   "cell_type": "code",
   "execution_count": null,
   "id": "ffede3cc",
   "metadata": {},
   "outputs": [],
   "source": [
    "plt.figure(figsize=(12, 6))\n",
    "for country in countries:\n",
    "    temp = df[df['location'] == country]\n",
    "    plt.plot(temp['date'], temp['total_vaccinations'], label=country)\n",
    "plt.title('Total Vaccinations Over Time')\n",
    "plt.xlabel('Date')\n",
    "plt.ylabel('Total Vaccinations')\n",
    "plt.legend()\n",
    "plt.show()\n"
   ]
  },
  {
   "cell_type": "code",
   "execution_count": null,
   "id": "3709c88d",
   "metadata": {},
   "outputs": [],
   "source": [
    "latest['vaccinated_percent'] = latest['people_vaccinated'] / latest['population'] * 100\n",
    "latest[['location', 'vaccinated_percent']]\n"
   ]
  },
  {
   "cell_type": "code",
   "execution_count": null,
   "id": "d9d584c3",
   "metadata": {},
   "outputs": [],
   "source": [
    "🧠 Key Insights:\n",
    "The USA had the highest total cases and deaths throughout the pandemic.\n",
    "\n",
    "India experienced sharp waves of cases, especially in mid-2021.\n",
    "\n",
    "Kenya’s case and vaccination numbers were significantly lower but more stable.\n",
    "\n",
    "The death rate was higher in Kenya compared to India, possibly due to fewer healthcare resources.\n",
    "\n",
    "The USA led in vaccination rollout, with over 60% of the population vaccinated."
   ]
  }
 ],
 "metadata": {
  "language_info": {
   "name": "python"
  }
 },
 "nbformat": 4,
 "nbformat_minor": 5
}
